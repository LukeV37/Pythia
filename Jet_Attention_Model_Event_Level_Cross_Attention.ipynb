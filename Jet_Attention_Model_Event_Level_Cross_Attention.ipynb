{
 "cells": [
  {
   "cell_type": "code",
   "execution_count": 1,
   "id": "fe566d86",
   "metadata": {},
   "outputs": [],
   "source": [
    "import uproot\n",
    "import numpy as np\n",
    "import matplotlib.pyplot as plt\n",
    "from mpl_toolkits.axes_grid1 import make_axes_locatable\n",
    "import random\n",
    "import awkward as ak\n",
    "from sklearn.metrics import mean_absolute_error, root_mean_squared_error\n",
    "\n",
    "import torch\n",
    "import torch.nn as nn\n",
    "import torch.nn.functional as F\n",
    "import torch.optim as optim"
   ]
  },
  {
   "cell_type": "markdown",
   "id": "f524f826",
   "metadata": {},
   "source": [
    "### Import Pythia Dataset"
   ]
  },
  {
   "cell_type": "code",
   "execution_count": 2,
   "id": "9c6e7bad",
   "metadata": {},
   "outputs": [],
   "source": [
    "with uproot.open(\"/home/lvaughan/Pythia/event_based/dataset_mu60.root:fastjet\") as f:\n",
    "    jet_pt = f[\"jet_pt\"].array()\n",
    "    jet_eta = f[\"jet_eta\"].array()\n",
    "    jet_phi = f[\"jet_phi\"].array()\n",
    "    trk_pt = f[\"trk_pT\"].array()\n",
    "    trk_eta = f[\"trk_eta\"].array()\n",
    "    trk_phi = f[\"trk_phi\"].array()\n",
    "    trk_q = f[\"trk_q\"].array()\n",
    "    trk_d0 = f[\"trk_d0\"].array()\n",
    "    trk_z0 = f[\"trk_z0\"].array()\n",
    "    trk_label = f[\"trk_label\"].array()\n",
    "    jet_trk_IDX = f[\"jet_track_index\"].array()"
   ]
  },
  {
   "cell_type": "markdown",
   "id": "9b5b2599",
   "metadata": {},
   "source": [
    "### Associate Tracks to Jets"
   ]
  },
  {
   "cell_type": "code",
   "execution_count": 3,
   "id": "471443df",
   "metadata": {},
   "outputs": [
    {
     "name": "stdout",
     "output_type": "stream",
     "text": [
      "Processing:  1000  /  1000\n",
      "Num Events:  1000\n",
      "Num Jets in first event:  22\n",
      "Num Tracks in first event first jet:  82\n",
      "Num Tracks features:  7\n",
      "CPU times: user 22.8 s, sys: 147 ms, total: 22.9 s\n",
      "Wall time: 22.8 s\n"
     ]
    }
   ],
   "source": [
    "%%time\n",
    "num_events = len(jet_pt)\n",
    "trk_feats = []\n",
    "for event in range(num_events):\n",
    "    if event%5==0:\n",
    "        print(\"Processing: \", event, \" / \", num_events, end=\"\\r\")\n",
    "    idx_list = list(jet_trk_IDX[event])\n",
    "    idx_list.append(len(trk_pt[event]))\n",
    "    \n",
    "    jet_trk_feats = []\n",
    "    for i in range(len(idx_list)-1):\n",
    "        start_idx = idx_list[i]\n",
    "        end_idx = idx_list[i+1]-1 \n",
    "        trk_pt_tmp = np.array(trk_pt[event][start_idx:end_idx])\n",
    "        trk_eta_tmp = np.array(trk_eta[event][start_idx:end_idx])\n",
    "        trk_phi_tmp = np.array(trk_phi[event][start_idx:end_idx])\n",
    "        trk_q_tmp = np.array(trk_q[event][start_idx:end_idx])\n",
    "        trk_d0_tmp = np.array(trk_d0[event][start_idx:end_idx])\n",
    "        trk_z0_tmp = np.array(trk_z0[event][start_idx:end_idx])\n",
    "        trk_label_tmp = np.array(trk_label[event][start_idx:end_idx])\n",
    "\n",
    "        feats = [trk_pt_tmp, trk_eta_tmp, trk_phi_tmp, trk_q_tmp,\n",
    "                trk_d0_tmp, trk_z0_tmp, trk_label_tmp]\n",
    "        feats = np.stack(feats, axis=-1)\n",
    "        jet_trk_feats.append(feats)\n",
    "    \n",
    "    trk_feats.append(jet_trk_feats)\n",
    "    \n",
    "trk_feats = ak.Array(trk_feats)\n",
    "\n",
    "print(\"Processing: \", num_events, \" / \", num_events)\n",
    "print(\"Num Events: \", len(trk_feats))\n",
    "print(\"Num Jets in first event: \", len(trk_feats[0]))\n",
    "print(\"Num Tracks in first event first jet: \", len(trk_feats[0][0]))\n",
    "print(\"Num Tracks features: \", len(trk_feats[0][0][0]))"
   ]
  },
  {
   "cell_type": "code",
   "execution_count": 4,
   "id": "e24bbb5b",
   "metadata": {},
   "outputs": [
    {
     "name": "stdout",
     "output_type": "stream",
     "text": [
      "[[[146, -0.157, 2.52], [113, ..., 0.0962], ..., [26.7, -2.63, 4.82]], ...]\n",
      "Num Events:  1000\n",
      "Num Jets in first event:  22\n",
      "Num Jet Features:  3\n",
      "CPU times: user 507 ms, sys: 15 ms, total: 522 ms\n",
      "Wall time: 510 ms\n"
     ]
    }
   ],
   "source": [
    "%%time\n",
    "num_events = len(jet_pt)\n",
    "jet_feats = []\n",
    "for event in range(num_events):\n",
    "    jet_pt_tmp = np.array(jet_pt[event])\n",
    "    jet_eta_tmp = np.array(jet_eta[event])\n",
    "    jet_phi_tmp = np.array(jet_phi[event])\n",
    "\n",
    "    feats = [jet_pt_tmp, jet_eta_tmp, jet_phi_tmp]\n",
    "    feats = np.stack(feats, axis=-1)\n",
    "    \n",
    "    jet_feats.append(feats)\n",
    "    \n",
    "jet_feats = ak.Array(jet_feats)\n",
    "\n",
    "print(jet_feats)\n",
    "print(\"Num Events: \", len(jet_feats))\n",
    "print(\"Num Jets in first event: \", len(jet_feats[0]))\n",
    "print(\"Num Jet Features: \", len(jet_feats[0][0]))"
   ]
  },
  {
   "cell_type": "markdown",
   "id": "5ec4411e",
   "metadata": {},
   "source": [
    "### Define Jet Class"
   ]
  },
  {
   "cell_type": "code",
   "execution_count": 5,
   "id": "86e633ca",
   "metadata": {},
   "outputs": [],
   "source": [
    "class Jet:\n",
    "    def __init__(self, jet_features, trk_features, trk_labels):\n",
    "        self.jet_features = jet_features\n",
    "        self.trk_features = trk_features\n",
    "        self.trk_labels = trk_labels\n",
    "        \n",
    "    def get_label(self):\n",
    "        sum_pt_hs = 0\n",
    "        sum_pt_pu = 0.0000001\n",
    "        for trk in range(len(self.trk_features)):\n",
    "            if self.trk_labels[trk]==-1:\n",
    "                sum_pt_hs+=self.trk_features[trk,0]**2\n",
    "            else:\n",
    "                sum_pt_pu+=self.trk_features[trk,0]**2\n",
    "        return sum_pt_hs / (sum_pt_hs + sum_pt_pu)\n",
    "    \n",
    "    def set_label(self, label):\n",
    "        self.label = np.float32(label)\n",
    "        \n",
    "    def set_binary_label(self):\n",
    "        if self.label == 0:\n",
    "            self.binary_label = np.float32(0)\n",
    "        else:\n",
    "            self.binary_label = np.float32(1)\n",
    "        \n",
    "    def convert_to_tensor(self):\n",
    "        self.trk_features = torch.from_numpy(self.trk_features)\n",
    "        self.jet_features = torch.from_numpy(self.jet_features)\n",
    "        self.label = torch.tensor(self.label).reshape([1])\n",
    "        self.binary_label = torch.tensor(self.binary_label).reshape([1])\n",
    "        \n",
    "    def norm_data(self, jet_means, trk_means, jet_stds, trk_stds):\n",
    "        self.jet_features = torch.div(torch.sub(self.jet_features,jet_means),jet_stds)\n",
    "        self.trk_features = torch.div(torch.sub(self.trk_features,trk_means),trk_stds)"
   ]
  },
  {
   "cell_type": "markdown",
   "id": "a13f9e1b",
   "metadata": {},
   "source": [
    "### Apply Cuts, Read data into Jet class, and store on Event Basis"
   ]
  },
  {
   "cell_type": "code",
   "execution_count": 6,
   "id": "3e966bc2",
   "metadata": {
    "scrolled": false
   },
   "outputs": [
    {
     "name": "stdout",
     "output_type": "stream",
     "text": [
      "CPU times: user 1min 14s, sys: 197 ms, total: 1min 14s\n",
      "Wall time: 1min 13s\n"
     ]
    },
    {
     "data": {
      "image/png": "[encoded data removed]",
      "text/plain": [
       "<Figure size 640x480 with 1 Axes>"
      ]
     },
     "metadata": {},
     "output_type": "display_data"
    }
   ],
   "source": [
    "%%time     \n",
    "Event_Jet_List = []\n",
    "num_events = len(jet_pt)\n",
    "for event in range(num_events):\n",
    "    if event%5==0:\n",
    "        print(\"Processing: \", event, \" / \", num_events, end=\"\\r\")\n",
    "    Jet_List = []\n",
    "    num_jets = len(jet_feats[event])\n",
    "    jet_eta_cut = jet_feats[event]\n",
    "    for jet in range(num_jets):\n",
    "        if abs(jet_feats[event][jet][1])>4:\n",
    "            continue\n",
    "        \n",
    "        trk_q_cut = trk_feats[event][jet][:,3]!=0\n",
    "        trk_eta_cut = abs(trk_feats[event][jet][:,1])<4\n",
    "        trk_pt_cut = trk_feats[event][jet][:,0]>0.4\n",
    "        \n",
    "        mask = trk_q_cut & trk_eta_cut & trk_pt_cut\n",
    "        #not_mask = ~mask\n",
    "        \n",
    "        pass_trks = trk_feats[event][jet][mask]\n",
    "        #fail_trks = trk_feats[event][jet][not_mask]\n",
    "        \n",
    "        jet_f = np.array(jet_feats[event][jet], dtype=np.float32)\n",
    "        trk_f = np.array(pass_trks[:,0:3], dtype=np.float32)\n",
    "        trk_l = np.array(pass_trks[:,-1], dtype=np.float32)\n",
    "        \n",
    "        Jet_List.append(Jet(jet_f,trk_f,trk_l))\n",
    "        \n",
    "    Event_Jet_List.append(Jet_List)\n",
    "\n",
    "label = []\n",
    "for event in range(num_events):\n",
    "    for jet in Event_Jet_List[event]:\n",
    "        jet.set_label(jet.get_label())\n",
    "        jet.set_binary_label()\n",
    "        jet.convert_to_tensor()\n",
    "        \n",
    "        # List for plotting labels\n",
    "        label.append(float(jet.label))\n",
    "    \n",
    "plt.hist(label)\n",
    "plt.title(\"Jet Score weighted by pT^2\")\n",
    "plt.xlabel(\"HS Score\",loc='right')\n",
    "plt.yscale('log')"
   ]
  },
  {
   "cell_type": "markdown",
   "id": "8b3b50a4",
   "metadata": {},
   "source": [
    "### Generate Track Tensor"
   ]
  },
  {
   "cell_type": "code",
   "execution_count": 7,
   "id": "9f302be2",
   "metadata": {},
   "outputs": [
    {
     "name": "stdout",
     "output_type": "stream",
     "text": [
      "CPU times: user 2.39 s, sys: 1.93 ms, total: 2.39 s\n",
      "Wall time: 2.39 s\n"
     ]
    }
   ],
   "source": [
    "%%time\n",
    "# Apply Cuts on Tracks\n",
    "pt_cut = (trk_pt > 0.4)\n",
    "eta_cut = ((trk_eta < 4) & (trk_eta > -4))\n",
    "q_cut = (trk_q != 0)\n",
    "mask = q_cut & eta_cut & pt_cut\n",
    "pt_trk = trk_pt[mask]\n",
    "eta_trk = trk_eta[mask]\n",
    "phi_trk = trk_phi[mask]\n",
    "    \n",
    "# Loop over Events and store tracks as torch tensor\n",
    "Event_Track_List = []\n",
    "for i in range(num_events):\n",
    "    trk_pt_tmp = torch.reshape(torch.Tensor(pt_trk[i]),(-1,1))\n",
    "    trk_eta_tmp = torch.reshape(torch.Tensor(eta_trk[i]),(-1,1))\n",
    "    trk_phi_tmp = torch.reshape(torch.Tensor(phi_trk[i]),(-1,1))\n",
    "    \n",
    "    trk_feats = torch.cat([trk_pt_tmp, trk_eta_tmp, trk_phi_tmp],1)\n",
    "    Event_Track_List.append(trk_feats)"
   ]
  },
  {
   "cell_type": "markdown",
   "id": "769a7a3d",
   "metadata": {},
   "source": [
    "### Generate Jet Tensor"
   ]
  },
  {
   "cell_type": "code",
   "execution_count": 8,
   "id": "db9b545d",
   "metadata": {},
   "outputs": [
    {
     "name": "stdout",
     "output_type": "stream",
     "text": [
      "torch.Size([19, 3])\n",
      "torch.Size([19, 1])\n",
      "CPU times: user 48.3 ms, sys: 982 μs, total: 49.2 ms\n",
      "Wall time: 48.8 ms\n"
     ]
    }
   ],
   "source": [
    "%%time\n",
    "Jet_Event_List = []\n",
    "Jet_Label_List = []\n",
    "for i in range(num_events):\n",
    "    jet_feats = []\n",
    "    jet_labels = []\n",
    "    for j in range(len(Event_Jet_List[i])):\n",
    "        jet_feats_tmp = torch.reshape(Event_Jet_List[i][j].jet_features,(1,3))\n",
    "        jet_feats.append(jet_feats_tmp)\n",
    "        \n",
    "        jet_labels.append(Event_Jet_List[i][j].label)\n",
    "        \n",
    "        \n",
    "    jet_feats = torch.cat(jet_feats, 0)\n",
    "    Jet_Event_List.append(jet_feats)\n",
    "    \n",
    "    jet_labels = torch.reshape(torch.cat(jet_labels, 0),(-1,1))\n",
    "    Jet_Label_List.append(jet_labels)\n",
    "    \n",
    "print(Jet_Event_List[0].shape)\n",
    "print(Jet_Label_List[0].shape)"
   ]
  },
  {
   "cell_type": "code",
   "execution_count": 9,
   "id": "ee059523",
   "metadata": {},
   "outputs": [
    {
     "name": "stdout",
     "output_type": "stream",
     "text": [
      "1000\n",
      "Processing:  1000  /  1000\n",
      "Training Events:  600\n",
      "Validation Events:  100\n",
      "Testing Events:  300\n"
     ]
    }
   ],
   "source": [
    "Event_List = list(zip(Jet_Event_List,Event_Track_List,Jet_Label_List))\n",
    "random.shuffle(Event_List)\n",
    "\n",
    "Events_training = Event_List[0:int(0.6*num_events)]\n",
    "Events_validation = Event_List[int(0.6*num_events):int(0.7*num_events)]\n",
    "Events_testing = Event_List[int(0.7*num_events):]\n",
    "\n",
    "print(\"Processing: \", num_events, \" / \", num_events)\n",
    "print(\"Training Events: \", len(Events_training))\n",
    "print(\"Validation Events: \", len(Events_validation))\n",
    "print(\"Testing Events: \", len(Events_testing))"
   ]
  },
  {
   "cell_type": "code",
   "execution_count": 10,
   "id": "37e55d80",
   "metadata": {},
   "outputs": [
    {
     "name": "stdout",
     "output_type": "stream",
     "text": [
      "3\n",
      "torch.Size([23, 3])\n",
      "torch.Size([406, 3])\n",
      "torch.Size([23, 1])\n"
     ]
    }
   ],
   "source": [
    "print(len(Events_training[0]))\n",
    "print(Events_training[0][0].shape)\n",
    "print(Events_training[0][1].shape)\n",
    "print(Events_training[0][2].shape)"
   ]
  },
  {
   "cell_type": "markdown",
   "id": "72382d53",
   "metadata": {},
   "source": [
    "### Define Model"
   ]
  },
  {
   "cell_type": "code",
   "execution_count": 11,
   "id": "7921d83a",
   "metadata": {},
   "outputs": [],
   "source": [
    "class Model(nn.Module):  \n",
    "    def __init__(self):\n",
    "        super(Model, self).__init__()   \n",
    "        \n",
    "        self.embed_dim = 16\n",
    "        self.num_heads = 1\n",
    "        self.num_jet_feats = 3\n",
    "        self.num_trk_feats = 3\n",
    "        \n",
    "        self.jet_initializer = nn.Linear(self.num_jet_feats, self.embed_dim)\n",
    "        self.trk_initializer = nn.Linear(self.num_trk_feats, self.embed_dim)\n",
    "                \n",
    "        self.multihead_attn = nn.MultiheadAttention(self.embed_dim, self.num_heads,batch_first=True)\n",
    "        \n",
    "        self.regression = nn.Linear(self.embed_dim, 1)\n",
    "        \n",
    "    def forward(self, jets, trks):\n",
    "        # Feature preprocessing layers\n",
    "        trk_init = F.relu(self.trk_initializer(trks))\n",
    "        jet_init = F.relu(self.jet_initializer(jets))\n",
    "        \n",
    "        # Calculate updated jet embedding from context of tracks\n",
    "        query = jet_init\n",
    "        key = trk_init\n",
    "        value = trk_init\n",
    "        \n",
    "        jet_embedding, weights = self.multihead_attn(query, key, value)\n",
    "        \n",
    "        # Get two outputs\n",
    "        output = F.sigmoid(self.regression(jet_embedding))\n",
    "        \n",
    "        return output, weights"
   ]
  },
  {
   "cell_type": "code",
   "execution_count": 12,
   "id": "3f9f55ab",
   "metadata": {},
   "outputs": [
    {
     "name": "stdout",
     "output_type": "stream",
     "text": [
      "Model(\n",
      "  (jet_initializer): Linear(in_features=3, out_features=16, bias=True)\n",
      "  (trk_initializer): Linear(in_features=3, out_features=16, bias=True)\n",
      "  (multihead_attn): MultiheadAttention(\n",
      "    (out_proj): NonDynamicallyQuantizableLinear(in_features=16, out_features=16, bias=True)\n",
      "  )\n",
      "  (regression): Linear(in_features=16, out_features=1, bias=True)\n",
      ")\n",
      "\n",
      "torch.Size([23, 1])\n",
      "torch.Size([23, 406])\n"
     ]
    }
   ],
   "source": [
    "model = Model()\n",
    "print(model)\n",
    "output, weights = model(Events_training[0][0],Events_training[0][1])\n",
    "print()\n",
    "print(output.shape)\n",
    "print(weights.shape)"
   ]
  },
  {
   "cell_type": "markdown",
   "id": "6fd65bc3",
   "metadata": {},
   "source": [
    "### Define Training Loop"
   ]
  },
  {
   "cell_type": "code",
   "execution_count": 13,
   "id": "3746c89d",
   "metadata": {},
   "outputs": [],
   "source": [
    "def train(model, data, epochs=100):\n",
    "    train_data, validation_data = data\n",
    "    \n",
    "    combined_history = []\n",
    "    mse_history = []\n",
    "    bce_history = []\n",
    "    \n",
    "    num_train = len(Events_training)\n",
    "    num_val = len(Events_validation)\n",
    "    \n",
    "    for e in range(epochs):\n",
    "        model.train()\n",
    "        cumulative_MSE_train = 0\n",
    "        cumulative_BCE_train = 0\n",
    "        cumulative_loss_train = 0\n",
    "\n",
    "        for i in range(num_train):\n",
    "            jets_train, trks_train, train_labels, train_bin_labels = dataloader(Events_training[i])\n",
    "    \n",
    "            optimizer.zero_grad()\n",
    "            \n",
    "            output, binary, weights_jet, weight_trk = model(jets_train.to(device), trks_train.to(device))\n",
    "            \n",
    "            loss_MSE=loss_fn1(output, train_labels.to(device))\n",
    "            loss_BCE=loss_fn2(binary, train_bin_labels.to(device))\n",
    "            loss = ALPHA * loss_MSE + BETA * loss_BCE\n",
    "            \n",
    "            loss.backward()\n",
    "            optimizer.step()\n",
    "            \n",
    "            cumulative_loss_train+=loss.detach().cpu().numpy().mean()\n",
    "            cumulative_MSE_train+=loss_MSE.detach().cpu().numpy().mean()\n",
    "            cumulative_BCE_train+=loss_BCE.detach().cpu().numpy().mean()\n",
    "\n",
    "        cumulative_loss_train = cumulative_loss_train / num_train\n",
    "        cumulative_MSE_train = cumulative_MSE_train / num_train\n",
    "        cumulative_BCE_train = cumulative_BCE_train / num_train\n",
    "\n",
    "        \n",
    "        model.eval()\n",
    "        cumulative_MSE_val = 0\n",
    "        cumulative_BCE_val = 0\n",
    "        cumulative_loss_val = 0\n",
    "        for i in range(num_val):\n",
    "            jets_val, trks_val, val_labels, val_bin_labels = dataloader(Events_validation[i])\n",
    "            output, binary, jet_weights, trk_weights = model(jets_val.to(device), trks_val.to(device))\n",
    "            loss_MSE=loss_fn1(output, val_labels.to(device))\n",
    "            loss_BCE=loss_fn2(binary, val_bin_labels.to(device))\n",
    "            loss = ALPHA * loss_MSE + BETA * loss_BCE\n",
    "            cumulative_loss_val+=loss.detach().cpu().numpy().mean()\n",
    "            cumulative_MSE_val+=loss_MSE.detach().cpu().numpy().mean()\n",
    "            cumulative_BCE_val+=loss_BCE.detach().cpu().numpy().mean()\n",
    "            \n",
    "        cumulative_loss_val = cumulative_loss_val / num_val\n",
    "        cumulative_MSE_val = cumulative_MSE_val / num_val\n",
    "        cumulative_BCE_val = cumulative_BCE_val / num_val\n",
    "\n",
    "        \n",
    "        combined_history.append([cumulative_loss_train, cumulative_loss_val])\n",
    "        mse_history.append([cumulative_MSE_train, cumulative_MSE_val])\n",
    "        bce_history.append([cumulative_BCE_train, cumulative_BCE_val])\n",
    "\n",
    "        if e%1==0:\n",
    "            print('Epoch:',e,'\\tTrain Loss:',round(cumulative_loss_train,6),'\\tVal Loss:',round(cumulative_loss_val,6))\n",
    "\n",
    "    return np.array(combined_history), np.array(mse_history), np.array(bce_history)"
   ]
  },
  {
   "cell_type": "markdown",
   "id": "73b119ec",
   "metadata": {},
   "source": [
    "### Train Model"
   ]
  },
  {
   "cell_type": "code",
   "execution_count": 14,
   "id": "de6b6a11",
   "metadata": {},
   "outputs": [
    {
     "name": "stdout",
     "output_type": "stream",
     "text": [
      "GPU Available:  True\n",
      "cuda:0\n",
      "\n"
     ]
    },
    {
     "ename": "NameError",
     "evalue": "name 'dataloader' is not defined",
     "output_type": "error",
     "traceback": [
      "\u001b[0;31m---------------------------------------------------------------------------\u001b[0m",
      "\u001b[0;31mNameError\u001b[0m                                 Traceback (most recent call last)",
      "Cell \u001b[0;32mIn[14], line 18\u001b[0m\n\u001b[1;32m     15\u001b[0m ALPHA \u001b[38;5;241m=\u001b[39m \u001b[38;5;241m1\u001b[39m    \u001b[38;5;66;03m# Weight of MSE Loss\u001b[39;00m\n\u001b[1;32m     16\u001b[0m BETA \u001b[38;5;241m=\u001b[39m \u001b[38;5;241m0\u001b[39m    \u001b[38;5;66;03m# Weight of BCE Loss\u001b[39;00m\n\u001b[0;32m---> 18\u001b[0m combined_history, mse_history, bce_history \u001b[38;5;241m=\u001b[39m \u001b[43mtrain\u001b[49m\u001b[43m(\u001b[49m\u001b[43mmodel\u001b[49m\u001b[43m,\u001b[49m\u001b[43m \u001b[49m\u001b[43m[\u001b[49m\u001b[43mEvents_training\u001b[49m\u001b[43m,\u001b[49m\u001b[43m \u001b[49m\u001b[43mEvents_validation\u001b[49m\u001b[43m]\u001b[49m\u001b[43m)\u001b[49m\n\u001b[1;32m     20\u001b[0m plt\u001b[38;5;241m.\u001b[39mplot(combined_history[:,\u001b[38;5;241m0\u001b[39m], label\u001b[38;5;241m=\u001b[39m\u001b[38;5;124m\"\u001b[39m\u001b[38;5;124mTrain Combined\u001b[39m\u001b[38;5;124m\"\u001b[39m)\n\u001b[1;32m     21\u001b[0m plt\u001b[38;5;241m.\u001b[39mplot(combined_history[:,\u001b[38;5;241m1\u001b[39m], label\u001b[38;5;241m=\u001b[39m\u001b[38;5;124m\"\u001b[39m\u001b[38;5;124mVal Combined\u001b[39m\u001b[38;5;124m\"\u001b[39m)\n",
      "Cell \u001b[0;32mIn[13], line 18\u001b[0m, in \u001b[0;36mtrain\u001b[0;34m(model, data, epochs)\u001b[0m\n\u001b[1;32m     15\u001b[0m cumulative_loss_train \u001b[38;5;241m=\u001b[39m \u001b[38;5;241m0\u001b[39m\n\u001b[1;32m     17\u001b[0m \u001b[38;5;28;01mfor\u001b[39;00m i \u001b[38;5;129;01min\u001b[39;00m \u001b[38;5;28mrange\u001b[39m(num_train):\n\u001b[0;32m---> 18\u001b[0m     jets_train, trks_train, train_labels, train_bin_labels \u001b[38;5;241m=\u001b[39m \u001b[43mdataloader\u001b[49m(Events_training[i])\n\u001b[1;32m     20\u001b[0m     optimizer\u001b[38;5;241m.\u001b[39mzero_grad()\n\u001b[1;32m     22\u001b[0m     output, binary, weights_jet, weight_trk \u001b[38;5;241m=\u001b[39m model(jets_train\u001b[38;5;241m.\u001b[39mto(device), trks_train\u001b[38;5;241m.\u001b[39mto(device))\n",
      "\u001b[0;31mNameError\u001b[0m: name 'dataloader' is not defined"
     ]
    }
   ],
   "source": [
    "print(\"GPU Available: \", torch.cuda.is_available())\n",
    "device = torch.device(\"cuda:0\" if torch.cuda.is_available() else \"cpu\")\n",
    "print(device)\n",
    "print()\n",
    "\n",
    "model = Model()\n",
    "model.to(device)\n",
    "\n",
    "optimizer = optim.Adam(model.parameters(), lr=0.0000005)\n",
    "\n",
    "loss_fn1 = nn.MSELoss()\n",
    "loss_fn2 = nn.BCELoss()\n",
    "\n",
    "# Combined Loss = ALPHA * MSE + BETA * BCE\n",
    "ALPHA = 1    # Weight of MSE Loss\n",
    "BETA = 0    # Weight of BCE Loss\n",
    "\n",
    "combined_history, mse_history, bce_history = train(model, [Events_training, Events_validation])\n",
    "\n",
    "plt.plot(combined_history[:,0], label=\"Train Combined\")\n",
    "plt.plot(combined_history[:,1], label=\"Val Combined\")\n",
    "plt.title('Combined Loss')\n",
    "plt.legend()\n",
    "plt.show()\n",
    "#plt.plot(mse_history[:,0], label=\"Train MSE\")\n",
    "#plt.plot(mse_history[:,1], label=\"Val MSE\")\n",
    "#plt.title('MSE Loss')\n",
    "#plt.legend()\n",
    "#plt.show()\n",
    "#plt.plot(bce_history[:,0], label=\"Train BCE\")\n",
    "#plt.plot(bce_history[:,1], label=\"Val BCE\")\n",
    "#plt.title('BCE Loss')\n",
    "#plt.legend()\n",
    "#plt.show()"
   ]
  },
  {
   "cell_type": "markdown",
   "id": "07b7cdfd",
   "metadata": {},
   "source": [
    "### Evaluate Model"
   ]
  },
  {
   "cell_type": "code",
   "execution_count": null,
   "id": "9dd920bf",
   "metadata": {
    "scrolled": false
   },
   "outputs": [],
   "source": [
    "model.eval()\n",
    "cumulative_loss_test = 0\n",
    "cumulative_MSE_test = 0\n",
    "cumulative_BCE_test = 0\n",
    "predicted_labels = []\n",
    "true_labels = []\n",
    "binary_pred = []\n",
    "binary_true = []\n",
    "\n",
    "num_test = len(Events_testing)\n",
    "for i in range(num_test):\n",
    "    jets_test, trks_test, test_labels, test_bin_labels = dataloader(Events_testing[i])\n",
    "    output, binary, jet_weights, trk_weights = model(jets_test.to(device), trks_test.to(device))\n",
    "    \n",
    "    loss_MSE=loss_fn1(output, test_labels.to(device))\n",
    "    loss_BCE=loss_fn2(binary, test_bin_labels.to(device))\n",
    "    loss = ALPHA * loss_MSE + BETA * loss_BCE\n",
    "    cumulative_loss_test+=loss.detach().cpu().numpy().mean()\n",
    "    cumulative_MSE_test+=loss_MSE.detach().cpu().numpy().mean()\n",
    "    cumulative_BCE_test+=loss_BCE.detach().cpu().numpy().mean()\n",
    "        \n",
    "    for j in range(output.shape[0]): \n",
    "        predicted_labels.append(1-float(output[j][0].detach().cpu().numpy()))\n",
    "        true_labels.append(1-float(test_labels[j][0].detach().numpy()))\n",
    "        binary_pred.append(1-float(binary[j][0].detach().cpu().numpy()))\n",
    "        binary_true.append(1-float(test_bin_labels[j][0].detach().numpy()))\n",
    "    \n",
    "cumulative_loss_test = cumulative_loss_test / num_test\n",
    "cumulative_MSE_test = cumulative_MSE_test / num_test\n",
    "cumulative_BCE_test = cumulative_BCE_test / num_test\n",
    "    \n",
    "print(\"Train Loss:\\t\", combined_history[-1][0])\n",
    "print(\"Val Loss:\\t\", combined_history[-1][1])\n",
    "print(\"Test Loss:\\t\", cumulative_loss_test)\n",
    "print()\n",
    "print(\"Test MAE:\\t\", mean_absolute_error(true_labels, predicted_labels))\n",
    "print(\"Test RMSE:\\t\", root_mean_squared_error(true_labels, predicted_labels))\n",
    "\n",
    "plt.hist(true_labels,histtype='step',color='r',label='True Distribution',bins=50,range=(0,1))\n",
    "plt.hist(predicted_labels,histtype='step',color='b',label='Predicted Distribution',bins=50,range=(0,1))\n",
    "plt.title(\"Predicted Ouput Distribution using Attention Model (\\u03BC=60)\")\n",
    "plt.legend()\n",
    "plt.yscale('log')\n",
    "plt.xlabel('PU Fraction',loc='right')\n",
    "plt.show()\n",
    "\n",
    "binary_true = np.array(binary_true)\n",
    "binary_pred = np.array(binary_pred)\n",
    "PU_idxs = np.where(binary_true == 1)\n",
    "HS_idxs = np.where(binary_true == 0)\n",
    "\n",
    "#plt.hist(binary_true,histtype='step',color='r',label='True Distribution',bins=50,range=(0,1))\n",
    "#plt.hist(binary_pred[HS_idxs],histtype='step',color='g',label='HS Predicted Distribution',bins=50,range=(0,1))\n",
    "#plt.hist(binary_pred[PU_idxs],histtype='step',color='b',label='PU Predicted Distribution',bins=50,range=(0,1))\n",
    "#plt.title(\"Predicted Binary Ouput Distribution using Attention Model (\\u03BC=60)\")\n",
    "#plt.legend()\n",
    "#plt.yscale('log')\n",
    "#plt.xlabel('PU Fraction',loc='right')\n",
    "#plt.show()"
   ]
  },
  {
   "cell_type": "markdown",
   "id": "24f69e2f",
   "metadata": {},
   "source": [
    "### Visualize Attention Scores"
   ]
  },
  {
   "cell_type": "code",
   "execution_count": null,
   "id": "207f8493",
   "metadata": {
    "scrolled": false
   },
   "outputs": [],
   "source": [
    "plot_events=1\n",
    "for i in range(plot_events):\n",
    "    \n",
    "    jets_test, trks_test, test_labels, test_bin_labels = dataloader(Events_testing[i])\n",
    "    \n",
    "    # Get Model Predictions\n",
    "    model.eval()\n",
    "    output, binary, jet_weights, trk_weights = model(jets_test.to(device), trks_test.to(device))\n",
    "    \n",
    "    num_jets = len(output)\n",
    "    \n",
    "    ticks = [x for x in range(num_jets)]\n",
    "    jet_labels= [round(float(label.detach().cpu().numpy()[0]),2) for label in test_labels]   \n",
    "\n",
    "    fig, (ax1) = plt.subplots(1, 1, figsize=(15,15))\n",
    "    im0 = ax1.imshow(jet_weights.detach().cpu().numpy())\n",
    "    ax1.set_xticks(ticks, jet_labels)\n",
    "    ax1.set_yticks(ticks, jet_labels)\n",
    "    ax1.set_title(\"Attention Scores Between Jets\")\n",
    "    divider = make_axes_locatable(ax1)\n",
    "    cax = divider.append_axes('right', size='5%', pad=0.05)\n",
    "    fig.colorbar(im0, cax=cax, orientation='vertical')\n",
    "    \n",
    "    # Calculate tick labels\n",
    "    num_trks = len(Events_testing[i][0].trk_features)\n",
    "    for j in range(num_jets):\n",
    "        # Define subplots\n",
    "        fig, (ax1, ax2) = plt.subplots(1, 2, figsize=(15,15))\n",
    "        tick_labels = []\n",
    "        num_trks = len(Events_testing[i][j].trk_labels)\n",
    "        ticks = [x for x in range(num_trks)]\n",
    "        for trk in range(num_trks):\n",
    "            tick_labels.append(int(Events_testing[i][j].trk_labels[trk]))\n",
    "    \n",
    "        # Plot attention weights\n",
    "        #im1 = ax1.imshow(trk_weights[j].detach().cpu().numpy())\n",
    "        im1 = ax1.imshow(trk_weights[j][0:num_trks,0:num_trks].detach().cpu().numpy())\n",
    "        ax1.set_xticks(ticks, tick_labels)\n",
    "        ax1.set_yticks(ticks, tick_labels)\n",
    "        ax1.set_title(\"Attention Scores Between Tracks\\nJet Score=\"+str(jet_labels[j]))\n",
    "        divider = make_axes_locatable(ax1)\n",
    "        cax = divider.append_axes('right', size='5%', pad=0.05)\n",
    "        fig.colorbar(im1, cax=cax, orientation='vertical')\n",
    "\n",
    "        # Calculate cos similiarity matrix\n",
    "        cos_sim_matrix = np.zeros((num_trks,num_trks))\n",
    "        for u in range(num_trks):\n",
    "            feats1 = Events_testing[i][j].trk_features[u].numpy()\n",
    "            A = np.linalg.norm(feats1)\n",
    "            for v in range(u,num_trks):\n",
    "                feats2 = Events_testing[i][j].trk_features[v].numpy()\n",
    "                B = np.linalg.norm(feats2)\n",
    "                cos_sim_matrix[u,v] = np.dot(feats1,feats2) / (A*B)\n",
    "                cos_sim_matrix[v,u] = cos_sim_matrix[u,v]\n",
    "                #print(feats1)\n",
    "                #print(feats2)\n",
    "                #print(np.dot(feats1,feats2) / (A*B))\n",
    "            #print()\n",
    "\n",
    "        # Plot cos similiarity matrix\n",
    "        im2 = ax2.imshow(cos_sim_matrix)  \n",
    "        ax2.set_xticks(ticks, tick_labels)\n",
    "        ax2.set_yticks(ticks, tick_labels)\n",
    "        ax2.set_title(\"Cos Similarity Between Tracks\")\n",
    "        divider = make_axes_locatable(ax2)\n",
    "        cax = divider.append_axes('right', size='5%', pad=0.05)\n",
    "        fig.colorbar(im2, cax=cax, orientation='vertical')\n",
    "\n",
    "        plt.show()    "
   ]
  },
  {
   "cell_type": "code",
   "execution_count": null,
   "id": "15bd2c21",
   "metadata": {},
   "outputs": [],
   "source": []
  }
 ],
 "metadata": {
  "kernelspec": {
   "display_name": "torch",
   "language": "python",
   "name": "torch"
  },
  "language_info": {
   "codemirror_mode": {
    "name": "ipython",
    "version": 3
   },
   "file_extension": ".py",
   "mimetype": "text/x-python",
   "name": "python",
   "nbconvert_exporter": "python",
   "pygments_lexer": "ipython3",
   "version": "3.10.12"
  }
 },
 "nbformat": 4,
 "nbformat_minor": 5
}

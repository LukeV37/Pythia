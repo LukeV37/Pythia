{
 "cells": [
  {
   "cell_type": "code",
   "execution_count": 1,
   "id": "fe566d86",
   "metadata": {},
   "outputs": [],
   "source": [
    "import uproot\n",
    "import numpy as np\n",
    "import matplotlib.pyplot as plt\n",
    "\n",
    "import torch\n",
    "import torch.nn as nn\n",
    "import torch.nn.functional as F\n",
    "import torch.optim as optim"
   ]
  },
  {
   "cell_type": "markdown",
   "id": "3a59c643",
   "metadata": {},
   "source": [
    "### Import Pythia Dataset"
   ]
  },
  {
   "cell_type": "code",
   "execution_count": 2,
   "id": "9c6e7bad",
   "metadata": {},
   "outputs": [],
   "source": [
    "with uproot.open(\"/home/lvaughan/Pythia/pythia/PU_dataset/dataset_mu60.root:pythia\") as f:\n",
    "    trk_pt = f[\"pT\"].array()\n",
    "    trk_eta = f[\"eta\"].array()\n",
    "    trk_phi = f[\"phi\"].array()\n",
    "    trk_label = f[\"label\"].array()\n",
    "    trk_q = f[\"q\"].array()\n",
    "with uproot.open(\"/home/lvaughan/Pythia/pythia/PU_dataset/dataset_mu60.root:fastjet\") as f:\n",
    "    jet_pt = f[\"jet_pt\"].array()\n",
    "    jet_eta = f[\"jet_eta\"].array()\n",
    "    jet_phi = f[\"jet_phi\"].array()\n",
    "    trk_ID = f[\"trk_ID\"].array()"
   ]
  },
  {
   "cell_type": "markdown",
   "id": "5ec4411e",
   "metadata": {},
   "source": [
    "### Define Jet Class"
   ]
  },
  {
   "cell_type": "code",
   "execution_count": 3,
   "id": "86e633ca",
   "metadata": {},
   "outputs": [],
   "source": [
    "class Jet:\n",
    "    def __init__(self, jet_features, trk_features, trk_labels):\n",
    "        self.jet_features = jet_features\n",
    "        self.trk_features = trk_features\n",
    "        self.trk_labels = trk_labels\n",
    "        \n",
    "    def get_label(self):\n",
    "        sum_pt_hs = 0\n",
    "        sum_pt_pu = 0.0000001\n",
    "        for trk in range(len(self.trk_features)):\n",
    "            if self.trk_labels[trk]==-1:\n",
    "                sum_pt_hs+=self.trk_features[trk,0]**2\n",
    "            else:\n",
    "                sum_pt_pu+=self.trk_features[trk,0]**2\n",
    "        return sum_pt_hs / (sum_pt_hs + sum_pt_pu)\n",
    "    \n",
    "    def set_label(self, label):\n",
    "        self.label = np.float32(label)\n",
    "        \n",
    "    def convert_to_tensor(self):\n",
    "        self.trk_features = torch.from_numpy(self.trk_features)\n",
    "        self.jet_features = torch.from_numpy(self.jet_features)\n",
    "        self.label = torch.tensor(self.label)"
   ]
  },
  {
   "cell_type": "markdown",
   "id": "f74b47ed",
   "metadata": {},
   "source": [
    "### Read Raw Data into Jet Class"
   ]
  },
  {
   "cell_type": "code",
   "execution_count": 4,
   "id": "8f983db7",
   "metadata": {},
   "outputs": [
    {
     "name": "stdout",
     "output_type": "stream",
     "text": [
      "44634\n",
      "Processing:  44600  /  44634\r"
     ]
    }
   ],
   "source": [
    "num_jets = len(jet_pt)\n",
    "print(num_jets)\n",
    "\n",
    "Jets = []\n",
    "\n",
    "for jet in range(num_jets):\n",
    "    if jet%100==0:\n",
    "        print(\"Processing: \", jet, \" / \", num_jets, end=\"\\r\")\n",
    "    if jet_eta[jet] > 4:\n",
    "        continue\n",
    "    jet_feats = np.array([jet_pt[jet],jet_eta[jet],jet_phi[jet]], dtype=np.float32)\n",
    "    trk_feats = np.empty((0,4), dtype=np.float32)\n",
    "    for trk in trk_ID[jet]:\n",
    "        # ALTAS uses 400MeV cut\n",
    "        if trk_pt[trk] < 0.4:\n",
    "            continue\n",
    "        # Implement eta cuts on tracks\n",
    "        if trk_eta[trk] > 4:\n",
    "            continue\n",
    "        # Skip neutral particles\n",
    "        if trk_q[trk]==0:\n",
    "            continue\n",
    "        trk_feats = np.vstack((trk_feats, np.array([trk_pt[trk], trk_eta[trk], trk_phi[trk], trk_label[trk]], dtype=np.float32)))\n",
    "    Jets.append(Jet(jet_feats,trk_feats[:,0:3],trk_feats[:,-1]))"
   ]
  },
  {
   "cell_type": "markdown",
   "id": "18fc9e6e",
   "metadata": {},
   "source": [
    "### Plot Labels"
   ]
  },
  {
   "cell_type": "code",
   "execution_count": 5,
   "id": "dd7ec9f7",
   "metadata": {},
   "outputs": [
    {
     "data": {
      "image/png": "[encoded data removed]",
      "text/plain": [
       "<Figure size 640x480 with 1 Axes>"
      ]
     },
     "metadata": {},
     "output_type": "display_data"
    }
   ],
   "source": [
    "label = []\n",
    "for jet in Jets:\n",
    "    jet.set_label(jet.get_label())\n",
    "    jet.convert_to_tensor()\n",
    "    label.append(jet.label)\n",
    "    \n",
    "plt.hist(label)\n",
    "plt.title(\"Jet Score weighted by pT^2\")\n",
    "plt.xlabel(\"HS Score\",loc='right')\n",
    "plt.yscale('log')"
   ]
  },
  {
   "cell_type": "markdown",
   "id": "72382d53",
   "metadata": {},
   "source": [
    "### Define Model"
   ]
  },
  {
   "cell_type": "code",
   "execution_count": 6,
   "id": "7921d83a",
   "metadata": {},
   "outputs": [],
   "source": [
    "class Model(nn.Module):  \n",
    "    def __init__(self):\n",
    "        super(Model, self).__init__()   \n",
    "        \n",
    "        self.embed_dim = 64\n",
    "        self.num_heads = 8\n",
    "        self.num_feats = 3\n",
    "        \n",
    "        self.jet_initializer = nn.Linear(self.num_feats, self.embed_dim)\n",
    "        self.trk_initializer = nn.Linear(self.num_feats, self.embed_dim)\n",
    "        \n",
    "        self.multihead_attn = nn.MultiheadAttention(self.embed_dim, self.num_heads)\n",
    "        \n",
    "        self.regression = nn.Linear(self.embed_dim*2, 1)\n",
    "        \n",
    "    def forward(self, jet_feats, trk_feats):\n",
    "        trk_init = F.relu(self.trk_initializer(trk_feats))\n",
    "        jet_init = F.relu(self.jet_initializer(jet_feats))\n",
    "        \n",
    "        query = trk_init\n",
    "        key = trk_init\n",
    "        value = trk_init\n",
    "        \n",
    "        trk_embedding, trk_weights = self.multihead_attn(query, key, value)\n",
    "                \n",
    "        num_trks = trk_embedding.shape[0]\n",
    "        \n",
    "        trk_aggregated = torch.zeros(self.embed_dim)\n",
    "        for trk in range(num_trks):\n",
    "            trk_aggregated = torch.add(trk_aggregated, trk_embedding[trk])\n",
    "            \n",
    "        jet_embedding = torch.cat((jet_init, trk_aggregated))\n",
    "                \n",
    "        output = F.sigmoid(self.regression(jet_embedding))\n",
    "        \n",
    "        return output"
   ]
  },
  {
   "cell_type": "markdown",
   "id": "6fd65bc3",
   "metadata": {},
   "source": [
    "### Define Training Loop"
   ]
  },
  {
   "cell_type": "code",
   "execution_count": 7,
   "id": "3746c89d",
   "metadata": {},
   "outputs": [],
   "source": [
    "def train(model, data, epochs=20):\n",
    "    \n",
    "    history = []\n",
    "    \n",
    "    for e in range(epochs):\n",
    "        model.train()\n",
    "        for entry in data:\n",
    "            optimizer.zero_grad()\n",
    "            output = model(entry.jet_features, entry.trk_features)\n",
    "            loss=loss_fn(output, entry.label)\n",
    "            loss.backward()\n",
    "            optimizer.step()\n",
    "        history.append(loss.detach().numpy())\n",
    "        print('Epoch:',e,'\\tLoss:',round(float(loss.detach().numpy()),4))\n",
    "\n",
    "    return history"
   ]
  },
  {
   "cell_type": "code",
   "execution_count": 8,
   "id": "4c079fd1",
   "metadata": {},
   "outputs": [
    {
     "name": "stdout",
     "output_type": "stream",
     "text": [
      "GPU Available:  True\n",
      "cuda:0\n"
     ]
    }
   ],
   "source": [
    "print(\"GPU Available: \", torch.cuda.is_available())\n",
    "device = torch.device(\"cuda:0\" if torch.cuda.is_available() else \"cpu\")\n",
    "print(device)"
   ]
  },
  {
   "cell_type": "code",
   "execution_count": 9,
   "id": "891d586d",
   "metadata": {},
   "outputs": [
    {
     "name": "stdout",
     "output_type": "stream",
     "text": [
      "tensor([4.6242e-06], grad_fn=<SigmoidBackward0>)\n"
     ]
    }
   ],
   "source": [
    "model = Model()\n",
    "print(model(Jets[0].jet_features, Jets[0].trk_features))"
   ]
  },
  {
   "cell_type": "code",
   "execution_count": 10,
   "id": "de6b6a11",
   "metadata": {},
   "outputs": [
    {
     "name": "stderr",
     "output_type": "stream",
     "text": [
      "/home/lvaughan/VirtualEnvs/torch/lib/python3.10/site-packages/torch/nn/modules/loss.py:535: UserWarning: Using a target size (torch.Size([])) that is different to the input size (torch.Size([1])). This will likely lead to incorrect results due to broadcasting. Please ensure they have the same size.\n",
      "  return F.mse_loss(input, target, reduction=self.reduction)\n"
     ]
    },
    {
     "name": "stdout",
     "output_type": "stream",
     "text": [
      "Epoch: 0 \tLoss: 0.0188\n",
      "Epoch: 1 \tLoss: 0.0085\n",
      "Epoch: 2 \tLoss: 0.0065\n",
      "Epoch: 3 \tLoss: 0.0069\n",
      "Epoch: 4 \tLoss: 0.0069\n",
      "Epoch: 5 \tLoss: 0.0061\n",
      "Epoch: 6 \tLoss: 0.0051\n",
      "Epoch: 7 \tLoss: 0.0041\n",
      "Epoch: 8 \tLoss: 0.0035\n",
      "Epoch: 9 \tLoss: 0.0032\n",
      "Epoch: 10 \tLoss: 0.0032\n",
      "Epoch: 11 \tLoss: 0.0032\n",
      "Epoch: 12 \tLoss: 0.0031\n",
      "Epoch: 13 \tLoss: 0.0031\n",
      "Epoch: 14 \tLoss: 0.0031\n",
      "Epoch: 15 \tLoss: 0.003\n",
      "Epoch: 16 \tLoss: 0.0029\n",
      "Epoch: 17 \tLoss: 0.0029\n",
      "Epoch: 18 \tLoss: 0.0028\n",
      "Epoch: 19 \tLoss: 0.0026\n"
     ]
    },
    {
     "data": {
      "text/plain": [
       "[<matplotlib.lines.Line2D at 0x76ed419ac1c0>]"
      ]
     },
     "execution_count": 10,
     "metadata": {},
     "output_type": "execute_result"
    },
    {
     "data": {
      "image/png": "[encoded data removed]",
      "text/plain": [
       "<Figure size 640x480 with 1 Axes>"
      ]
     },
     "metadata": {},
     "output_type": "display_data"
    }
   ],
   "source": [
    "optimizer = optim.Adam(model.parameters(), lr=0.0001)\n",
    "loss_fn = nn.MSELoss()\n",
    "history = train(model, Jets[0:10000])\n",
    "plt.plot(history)"
   ]
  },
  {
   "cell_type": "code",
   "execution_count": null,
   "id": "76b0a5cb",
   "metadata": {},
   "outputs": [],
   "source": []
  }
 ],
 "metadata": {
  "kernelspec": {
   "display_name": "torch",
   "language": "python",
   "name": "torch"
  },
  "language_info": {
   "codemirror_mode": {
    "name": "ipython",
    "version": 3
   },
   "file_extension": ".py",
   "mimetype": "text/x-python",
   "name": "python",
   "nbconvert_exporter": "python",
   "pygments_lexer": "ipython3",
   "version": "3.10.12"
  }
 },
 "nbformat": 4,
 "nbformat_minor": 5
}
